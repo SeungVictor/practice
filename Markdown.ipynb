{
 "cells": [
  {
   "cell_type": "markdown",
   "id": "ab2309bf-d9aa-4998-88c3-957d76c122b9",
   "metadata": {},
   "source": [
    "## 제목표시"
   ]
  },
  {
   "cell_type": "markdown",
   "id": "7a25295d-de19-4a4e-9369-71df7d621165",
   "metadata": {},
   "source": [
    "# 제목(Heading) 표시\n",
    "## 제목(Heading) 표시\n",
    "### 제목(Heading) 표시\n",
    "#### 제목(Heading) 표시\n",
    "##### 제목(Heading) 표시\n",
    "###### 제목(Heading) 표시\n"
   ]
  },
  {
   "cell_type": "markdown",
   "id": "1761b6ba-a82f-4030-8645-53eb1994e123",
   "metadata": {
    "id": "WXfs_Cu1Co-H"
   },
   "source": [
    "# 제목(Heading) 표시\n",
    "## 제목(Heading) 표시\n",
    "### 제목(Heading) 표시\n",
    "#### 제목(Heading) 표시\n",
    "##### 제목(Heading) 표시\n",
    "###### 제목(Heading) 표시"
   ]
  },
  {
   "cell_type": "markdown",
   "id": "8abb63dc-cbc3-4a28-a2b1-6f01ba7e0563",
   "metadata": {},
   "source": []
  },
  {
   "cell_type": "markdown",
   "id": "8a1bc73a-3ad2-411f-9745-53a0afddbd22",
   "metadata": {
    "id": "fSJ0j0Y8CsKW"
   },
   "source": [
    "1. 첫째\n",
    "2. 둘째\n",
    "3. 셋째\n",
    "* 1단계\n",
    "  + 2단계 \n",
    "      - 3단계\n",
    "      "
   ]
  },
  {
   "cell_type": "markdown",
   "id": "4107f40a-7a02-4a5f-95cd-1a99d5270e3a",
   "metadata": {},
   "source": [
    "1. 첫째\n",
    "2. 둘째\n",
    "3. 셋째\n",
    "* 1단계\n",
    "  + 2단계 \n",
    "      - 3단계"
   ]
  },
  {
   "cell_type": "markdown",
   "id": "3e8fcff5-7f10-4548-9f45-89f9dd8645df",
   "metadata": {
    "id": "TsaBsQUsCTE0"
   },
   "source": [
    "## 폰트 스타일(Font Style)\n",
    "\n"
   ]
  },
  {
   "cell_type": "markdown",
   "id": "d7c9219a-38d6-42d0-993c-ea5337fcd930",
   "metadata": {
    "id": "Fu4Lk62RCivG"
   },
   "source": [
    "**bold**\n",
    "__bold__\n",
    "*italic*\n",
    "_italic_\n",
    "~~strike~~\n",
    "<u>underbar</u>\n",
    "\n"
   ]
  },
  {
   "cell_type": "markdown",
   "id": "4af63c5e-2308-4ab2-bd34-e12c5fc3409a",
   "metadata": {},
   "source": [
    "**bold**\n",
    "__bold__\n",
    "*italic*\n",
    "_italic_\n",
    "~~strike~~\n",
    "<u>underbar</u>"
   ]
  },
  {
   "cell_type": "markdown",
   "id": "3e93b309-370d-4c6f-9fab-609c3e50e2cf",
   "metadata": {
    "id": "P8PLWLSODwrS"
   },
   "source": [
    "## 인용구\n",
    "\n"
   ]
  },
  {
   "cell_type": "markdown",
   "id": "972db0a3-85ab-438c-a2a9-c505d5a1b453",
   "metadata": {
    "id": "gchOf72GD5lt"
   },
   "source": [
    "> 인용 1\n",
    ">> 인용 2\n",
    ">>> 인용 3"
   ]
  },
  {
   "cell_type": "markdown",
   "id": "dcee134d-5cf1-4e56-a895-2ebb2c1c2b36",
   "metadata": {},
   "source": [
    "> 인용 1\n",
    ">> 인용 2\n",
    ">>> 인용 3"
   ]
  },
  {
   "cell_type": "markdown",
   "id": "b3350b64-dc47-4a82-a3a3-6d1af2ae635c",
   "metadata": {
    "id": "Jw5EeYO9D8AI"
   },
   "source": [
    "## 링크\n",
    "\n"
   ]
  },
  {
   "cell_type": "markdown",
   "id": "72e9a7ba-0744-41c9-9ac0-2d8a58c4995f",
   "metadata": {
    "id": "2NVoA14BEMqB"
   },
   "source": [
    "[Naver](https//www.naver.com)"
   ]
  },
  {
   "cell_type": "markdown",
   "id": "94eefe4a-4714-4f64-8ca9-6df2b7e1f739",
   "metadata": {},
   "source": [
    "[Naver](https//www.naver.com)"
   ]
  },
  {
   "cell_type": "markdown",
   "id": "9b3a9f19-b1b5-4998-accc-e94c0174a3f6",
   "metadata": {
    "id": "XclscvygEVcp"
   },
   "source": [
    "## 이미지\n"
   ]
  },
  {
   "cell_type": "markdown",
   "id": "88d12be4-332f-4268-930d-8298c2ebd314",
   "metadata": {
    "id": "puOkShcgEnuq"
   },
   "source": [
    "![](https://blog.hmgjournal.com/images_n/contents/170421_dog01.png)"
   ]
  },
  {
   "cell_type": "markdown",
   "id": "3b6cab50-6b52-4d35-ada5-cc17a5f72364",
   "metadata": {},
   "source": [
    "![Image](https://blog.hmgjournal.com/images_n/contents/170421_dog01.png)"
   ]
  },
  {
   "cell_type": "markdown",
   "id": "9fb27788-e6e4-41ef-ad07-bb7a1cfee203",
   "metadata": {
    "id": "mVy5Qmd4Erlp"
   },
   "source": [
    "## 수평선\n",
    "\n",
    "\n"
   ]
  },
  {
   "cell_type": "markdown",
   "id": "0c83d166-4f58-4ace-ba93-ea0b350e7df4",
   "metadata": {
    "id": "VhNkI-8VEviE"
   },
   "source": [
    "---"
   ]
  },
  {
   "cell_type": "markdown",
   "id": "e28fa285-ea89-4755-a2cd-4814c6a15deb",
   "metadata": {},
   "source": [
    "---"
   ]
  },
  {
   "cell_type": "markdown",
   "id": "a956f312-d6e6-4f84-ab2c-66c4aec2b005",
   "metadata": {
    "id": "hBVgu-TnEyFt"
   },
   "source": [
    "## 표\n",
    "\n",
    "\n"
   ]
  },
  {
   "cell_type": "markdown",
   "id": "560293b0-9c65-4d19-945d-e01a1413604a",
   "metadata": {
    "id": "5X87z4qYFFF-"
   },
   "source": [
    "| C1 | C2 | C3  |\n",
    "|:---|---:|:---:|\n",
    "| D1 | D2 | D3 |"
   ]
  },
  {
   "cell_type": "markdown",
   "id": "fe5769aa-cd96-4c47-a8ea-758f7537ef22",
   "metadata": {},
   "source": [
    "| C1 | C2 | C3  |\n",
    "|:---|---:|:---:|\n",
    "| D1 | D2 | D3 |"
   ]
  },
  {
   "cell_type": "markdown",
   "id": "4fd8218a-fb35-4255-96f5-cdae2eb3756c",
   "metadata": {
    "id": "hqpFpco_FMfT"
   },
   "source": [
    "## 코드\n",
    "\n",
    "\n",
    "\n",
    "\n"
   ]
  },
  {
   "cell_type": "markdown",
   "id": "fe56414a-465d-4472-aa92-4b3ecd9013aa",
   "metadata": {},
   "source": [
    "`inline code`"
   ]
  },
  {
   "cell_type": "markdown",
   "id": "819023ef-39c7-466a-a619-1f14022b7bc4",
   "metadata": {},
   "source": [
    "`inline code`"
   ]
  },
  {
   "cell_type": "markdown",
   "id": "f3bc46c5-24a8-4dcc-8f80-706bf790b643",
   "metadata": {},
   "source": [
    "```block code```"
   ]
  },
  {
   "cell_type": "markdown",
   "id": "25cb82bd-4413-41ec-9367-ddbceebab209",
   "metadata": {},
   "source": [
    "```python\n",
    "def power(b, n)\n",
    "\n",
    "```"
   ]
  },
  {
   "cell_type": "markdown",
   "id": "c48080e2-31fd-47e7-9ca7-0b781d0da187",
   "metadata": {},
   "source": [
    "```python\n",
    "def power(b, n)\n",
    "\n",
    "```"
   ]
  }
 ],
 "metadata": {
  "kernelspec": {
   "display_name": "Python 3 (ipykernel)",
   "language": "python",
   "name": "python3"
  },
  "language_info": {
   "codemirror_mode": {
    "name": "ipython",
    "version": 3
   },
   "file_extension": ".py",
   "mimetype": "text/x-python",
   "name": "python",
   "nbconvert_exporter": "python",
   "pygments_lexer": "ipython3",
   "version": "3.9.7"
  }
 },
 "nbformat": 4,
 "nbformat_minor": 5
}
