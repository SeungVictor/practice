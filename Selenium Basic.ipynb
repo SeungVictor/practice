{
 "cells": [
  {
   "cell_type": "markdown",
   "id": "1553204e",
   "metadata": {},
   "source": [
    "From [Suanlab](https://www.youtube.com/watch?v=dDEESB4Iw8g)\n",
    "# Selenium 기초"
   ]
  },
  {
   "cell_type": "markdown",
   "id": "df90fa22",
   "metadata": {},
   "source": [
    "## Selenium 및 웹드라이버 설치"
   ]
  },
  {
   "cell_type": "code",
   "execution_count": 1,
   "id": "22c24e1c",
   "metadata": {},
   "outputs": [],
   "source": [
    "#colab에서 설정방법\n",
    "#!pip install Selenium\n",
    "#!apt-get update\n",
    "#!apt install chromium-chromedriver\n",
    "#!cp /usr/lib/chromium-browser/chromedriver /usr/bin\n"
   ]
  },
  {
   "cell_type": "markdown",
   "id": "c266501a-3a60-4e7f-9c43-335e0cd065f8",
   "metadata": {},
   "source": [
    "## 경로설정"
   ]
  },
  {
   "cell_type": "code",
   "execution_count": 2,
   "id": "f53cb805-a390-4687-ab8c-3403f3199724",
   "metadata": {},
   "outputs": [],
   "source": [
    "#for colab\n",
    "#import sys\n",
    "#sys.path.insert(0, '/usr/lib/chromium-browser/chromedriver')\n",
    "\n"
   ]
  },
  {
   "cell_type": "markdown",
   "id": "c719819a-d5d8-4e45-b031-99fe256af619",
   "metadata": {},
   "source": [
    "## 웹 드라이버 설정"
   ]
  },
  {
   "cell_type": "code",
   "execution_count": 3,
   "id": "c8df62ec",
   "metadata": {},
   "outputs": [],
   "source": [
    "from selenium import webdriver\n",
    "chrome_options = webdriver.ChromeOptions()\n",
    "chrome_options.add_argument('--headless')\n",
    "chrome_options.add_argument('--no-sandbox')\n",
    "chrome_options.add_argument('--disable-dev-shm-usage')\n"
   ]
  },
  {
   "cell_type": "markdown",
   "id": "5254c014-ef22-4b47-8a4a-05bbfc7f470e",
   "metadata": {},
   "source": [
    "## 웹드라이버 객체 생성"
   ]
  },
  {
   "cell_type": "code",
   "execution_count": 9,
   "id": "9f26945e-75ee-4540-a5f5-102774a23cc3",
   "metadata": {},
   "outputs": [],
   "source": [
    "wd = webdriver.Chrome('/opt/homebrew/Caskroom/chromedriver/93.0.4577.63/chromedriver', options=chrome_options)"
   ]
  },
  {
   "cell_type": "markdown",
   "id": "4da2ba47-ac94-4a57-9765-cfdbfbfd725d",
   "metadata": {},
   "source": [
    "## Selenium 실행"
   ]
  },
  {
   "cell_type": "code",
   "execution_count": 10,
   "id": "d0c106cb-9ec1-4a39-a03c-1d2c1de7602f",
   "metadata": {},
   "outputs": [],
   "source": [
    "wd.get(\"http://suanlab.com/\")"
   ]
  },
  {
   "cell_type": "code",
   "execution_count": 11,
   "id": "d461b874-3bd8-4682-814e-2b379643ba51",
   "metadata": {},
   "outputs": [
    {
     "data": {
      "text/plain": [
       "True"
      ]
     },
     "execution_count": 11,
     "metadata": {},
     "output_type": "execute_result"
    }
   ],
   "source": [
    "wd.get_screenshot_as_file(\"suanlab.png\")"
   ]
  },
  {
   "cell_type": "code",
   "execution_count": 14,
   "id": "2605425c-c28c-4569-b301-62c6c74543de",
   "metadata": {},
   "outputs": [
    {
     "name": "stdout",
     "output_type": "stream",
     "text": [
      "[2020-04-14] \"메타버스 시대가 오고 있다\"\n",
      "[2020-01-20] \"바이러스 연구부터 뷰티·배달 AI 결합한 비즈니스...\"\n",
      "[2020-10-07] \"이력서 작성·레시피 제공 다양하게 활용되는 GPT3\"\n",
      "[2020-05-20] \"인공지능의 보안 위협\"\n",
      "[2020-03-04] \"데이터 경제 시대\"\n",
      "[2019-12-25] \"마이데이터 시대의 도래 데이터 주권과 새로운 가치\"\n",
      "[2019-09-04] \"농업으로 들어간 인공지능\"\n",
      "[2019-08-07] \"AI시대 지배할 것인가 지배당하며 살 것인가\"\n"
     ]
    }
   ],
   "source": [
    "for label in wd.find_elements_by_tag_name('label'):\n",
    "    print(label.text)"
   ]
  },
  {
   "cell_type": "code",
   "execution_count": 15,
   "id": "d7d64b76-64c9-4f51-ae77-4ebe206a3108",
   "metadata": {},
   "outputs": [
    {
     "name": "stdout",
     "output_type": "stream",
     "text": [
      "[2020-04-14] \"메타버스 시대가 오고 있다\"\n",
      "[2020-01-20] \"바이러스 연구부터 뷰티·배달 AI 결합한 비즈니스...\"\n",
      "[2020-10-07] \"이력서 작성·레시피 제공 다양하게 활용되는 GPT3\"\n",
      "[2020-05-20] \"인공지능의 보안 위협\"\n",
      "[2020-03-04] \"데이터 경제 시대\"\n",
      "[2019-12-25] \"마이데이터 시대의 도래 데이터 주권과 새로운 가치\"\n",
      "[2019-09-04] \"농업으로 들어간 인공지능\"\n",
      "[2019-08-07] \"AI시대 지배할 것인가 지배당하며 살 것인가\"\n"
     ]
    }
   ],
   "source": [
    "for label in wd.find_elements_by_css_selector('#wrapper > section > div > div > div > div > div > label'):\n",
    "    print(label.text)"
   ]
  },
  {
   "cell_type": "code",
   "execution_count": 16,
   "id": "4d0f01e2-6652-45f0-a65f-74f7de7e81e8",
   "metadata": {},
   "outputs": [
    {
     "name": "stdout",
     "output_type": "stream",
     "text": [
      "[2020-04-14] \"메타버스 시대가 오고 있다\"\n",
      "[2020-01-20] \"바이러스 연구부터 뷰티·배달 AI 결합한 비즈니스...\"\n",
      "[2020-10-07] \"이력서 작성·레시피 제공 다양하게 활용되는 GPT3\"\n",
      "[2020-05-20] \"인공지능의 보안 위협\"\n",
      "[2020-03-04] \"데이터 경제 시대\"\n",
      "[2019-12-25] \"마이데이터 시대의 도래 데이터 주권과 새로운 가치\"\n",
      "[2019-09-04] \"농업으로 들어간 인공지능\"\n",
      "[2019-08-07] \"AI시대 지배할 것인가 지배당하며 살 것인가\"\n"
     ]
    }
   ],
   "source": [
    "# elements 복수 div(1) 확인\n",
    "for label in wd.find_elements_by_xpath('//*[@id=\"wrapper\"]/section/div/div/div/div/div/label'):\n",
    "    print(label.text)"
   ]
  },
  {
   "cell_type": "code",
   "execution_count": 23,
   "id": "5c43542c-a0a8-43c4-8993-36acaf48cc27",
   "metadata": {},
   "outputs": [
    {
     "name": "stdout",
     "output_type": "stream",
     "text": [
      "[2020-04-14] \"메타버스 시대가 오고 있다\"\n",
      "\n",
      "[2020-01-20] \"바이러스 연구부터 뷰티·배달 AI 결합한 비즈니스...\"\n",
      "\n",
      "[2020-10-07] \"이력서 작성·레시피 제공 다양하게 활용되는 GPT3\"\n",
      "\n",
      "[2020-05-20] \"인공지능의 보안 위협\"\n",
      "\n",
      "[2020-03-04] \"데이터 경제 시대\"\n",
      "\n",
      "[2019-12-25] \"마이데이터 시대의 도래 데이터 주권과 새로운 가치\"\n",
      "\n",
      "[2019-09-04] \"농업으로 들어간 인공지능\"\n",
      "\n",
      "[2019-08-07] \"AI시대 지배할 것인가 지배당하며 살 것인가\"\n",
      "[2020-04-14] \"메타버스 시대가 오고 있다\"\n",
      "[2020-01-20] \"바이러스 연구부터 뷰티·배달 AI 결합한 비즈니스...\"\n",
      "[2020-10-07] \"이력서 작성·레시피 제공 다양하게 활용되는 GPT3\"\n",
      "[2020-05-20] \"인공지능의 보안 위협\"\n",
      "[2020-03-04] \"데이터 경제 시대\"\n",
      "[2019-12-25] \"마이데이터 시대의 도래 데이터 주권과 새로운 가치\"\n",
      "[2019-09-04] \"농업으로 들어간 인공지능\"\n",
      "[2019-08-07] \"AI시대 지배할 것인가 지배당하며 살 것인가\"\n"
     ]
    }
   ],
   "source": [
    "for label in wd.find_elements_by_class_name('toggle'):\n",
    "    print(label.text)"
   ]
  },
  {
   "cell_type": "code",
   "execution_count": 27,
   "id": "faf6897c-7b90-4fe7-ab45-68f1b724ec89",
   "metadata": {},
   "outputs": [
    {
     "name": "stdout",
     "output_type": "stream",
     "text": [
      "[2020-04-14] \"메타버스 시대가 오고 있다\"\n",
      "[2020-01-20] \"바이러스 연구부터 뷰티·배달 AI 결합한 비즈니스...\"\n",
      "[2020-10-07] \"이력서 작성·레시피 제공 다양하게 활용되는 GPT3\"\n",
      "[2020-05-20] \"인공지능의 보안 위협\"\n",
      "[2020-03-04] \"데이터 경제 시대\"\n",
      "[2019-12-25] \"마이데이터 시대의 도래 데이터 주권과 새로운 가치\"\n",
      "[2019-09-04] \"농업으로 들어간 인공지능\"\n",
      "[2019-08-07] \"AI시대 지배할 것인가 지배당하며 살 것인가\"\n"
     ]
    }
   ],
   "source": [
    "toggle_class = wd.find_element_by_css_selector('#wrapper > section > div > div > div > div ')\n",
    "\n",
    "for label in toggle_class.find_elements_by_class_name('toggle'):\n",
    "    print(label.text)"
   ]
  },
  {
   "cell_type": "code",
   "execution_count": 31,
   "id": "bc77947c-8066-4964-90de-663c07f56ea2",
   "metadata": {},
   "outputs": [
    {
     "name": "stdout",
     "output_type": "stream",
     "text": [
      "[2020-04-14] \"메타버스 시대가 오고 있다\"\n",
      "[2020-01-20] \"바이러스 연구부터 뷰티·배달 AI 결합한 비즈니스...\"\n",
      "[2020-10-07] \"이력서 작성·레시피 제공 다양하게 활용되는 GPT3\"\n",
      "[2020-05-20] \"인공지능의 보안 위협\"\n",
      "[2020-03-04] \"데이터 경제 시대\"\n",
      "[2019-12-25] \"마이데이터 시대의 도래 데이터 주권과 새로운 가치\"\n",
      "[2019-09-04] \"농업으로 들어간 인공지능\"\n",
      "[2019-08-07] \"AI시대 지배할 것인가 지배당하며 살 것인가\"\n",
      "[2020-04-14] \"메타버스 시대가 오고 있다\"\n",
      "[2020-01-20] \"바이러스 연구부터 뷰티·배달 AI 결합한 비즈니스...\"\n",
      "[2020-10-07] \"이력서 작성·레시피 제공 다양하게 활용되는 GPT3\"\n",
      "[2020-05-20] \"인공지능의 보안 위협\"\n",
      "[2020-03-04] \"데이터 경제 시대\"\n",
      "[2019-12-25] \"마이데이터 시대의 도래 데이터 주권과 새로운 가치\"\n",
      "[2019-09-04] \"농업으로 들어간 인공지능\"\n",
      "[2019-08-07] \"AI시대 지배할 것인가 지배당하며 살 것인가\"\n"
     ]
    }
   ],
   "source": [
    "from selenium.webdriver.common.by import By\n",
    "\n",
    "for label in wd.find_elements(By.TAG_NAME, 'label'):\n",
    "    print(label.text)\n",
    "    \n",
    "for label in wd.find_elements_by_tag_name('label'):\n",
    "    print(label.text)\n",
    "    \n",
    "# 2개가 같은 코드"
   ]
  },
  {
   "cell_type": "code",
   "execution_count": 32,
   "id": "fce43b0c-ba00-457d-bb26-493cad9069e4",
   "metadata": {},
   "outputs": [
    {
     "name": "stdout",
     "output_type": "stream",
     "text": [
      "[2020-04-14] \"메타버스 시대가 오고 있다\"\n",
      "[2020-01-20] \"바이러스 연구부터 뷰티·배달 AI 결합한 비즈니스...\"\n",
      "[2020-10-07] \"이력서 작성·레시피 제공 다양하게 활용되는 GPT3\"\n",
      "[2020-05-20] \"인공지능의 보안 위협\"\n",
      "[2020-03-04] \"데이터 경제 시대\"\n",
      "[2019-12-25] \"마이데이터 시대의 도래 데이터 주권과 새로운 가치\"\n",
      "[2019-09-04] \"농업으로 들어간 인공지능\"\n",
      "[2019-08-07] \"AI시대 지배할 것인가 지배당하며 살 것인가\"\n"
     ]
    }
   ],
   "source": [
    "for label in wd.find_elements(By.CSS_SELECTOR, '#wrapper > section > div > div > div > div > div > label'):\n",
    "    print(label.text)"
   ]
  }
 ],
 "metadata": {
  "hide_input": false,
  "kernelspec": {
   "display_name": "Python 3 (ipykernel)",
   "language": "python",
   "name": "python3"
  },
  "language_info": {
   "codemirror_mode": {
    "name": "ipython",
    "version": 3
   },
   "file_extension": ".py",
   "mimetype": "text/x-python",
   "name": "python",
   "nbconvert_exporter": "python",
   "pygments_lexer": "ipython3",
   "version": "3.9.6"
  },
  "toc": {
   "base_numbering": 1,
   "nav_menu": {},
   "number_sections": true,
   "sideBar": true,
   "skip_h1_title": false,
   "title_cell": "Table of Contents",
   "title_sidebar": "Contents",
   "toc_cell": false,
   "toc_position": {},
   "toc_section_display": true,
   "toc_window_display": false
  },
  "varInspector": {
   "cols": {
    "lenName": 16,
    "lenType": 16,
    "lenVar": 40
   },
   "kernels_config": {
    "python": {
     "delete_cmd_postfix": "",
     "delete_cmd_prefix": "del ",
     "library": "var_list.py",
     "varRefreshCmd": "print(var_dic_list())"
    },
    "r": {
     "delete_cmd_postfix": ") ",
     "delete_cmd_prefix": "rm(",
     "library": "var_list.r",
     "varRefreshCmd": "cat(var_dic_list()) "
    }
   },
   "types_to_exclude": [
    "module",
    "function",
    "builtin_function_or_method",
    "instance",
    "_Feature"
   ],
   "window_display": false
  }
 },
 "nbformat": 4,
 "nbformat_minor": 5
}
