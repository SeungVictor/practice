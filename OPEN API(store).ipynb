{
 "cells": [
  {
   "cell_type": "markdown",
   "id": "6c021c62-cbf8-4895-9485-af7c98cf0bf7",
   "metadata": {},
   "source": [
    "From [Suanlab](https://www.youtube.com/channel/UCFfALXX0DOx7zv6VeR5U_Bg)\n",
    "# 상가정보 API 활용하기"
   ]
  },
  {
   "cell_type": "markdown",
   "id": "5f8b6464-b35c-4873-bb89-f5c856337279",
   "metadata": {},
   "source": [
    "\n",
    "\n",
    "encoding: KJRTsEOIytUcYU%2BqXGApAmUl36YomGUuj2gWqy1ovmAE6E3Vz2ARuqccx%2BrBGrAPjuxqrqHEJPbqdKeAlp8kNA%3D%3D\n",
    "\n",
    "decoding:\n",
    "KJRTsEOIytUcYU+qXGApAmUl36YomGUuj2gWqy1ovmAE6E3Vz2ARuqccx+rBGrAPjuxqrqHEJPbqdKeAlp8kNA==\n",
    "\n"
   ]
  },
  {
   "cell_type": "code",
   "execution_count": null,
   "id": "c289b5b0-e660-49c3-acb5-abdae65bf5ff",
   "metadata": {},
   "outputs": [],
   "source": [
    "# # Python 샘플 코드 #\n",
    "\n",
    "\n",
    "# from urllib2 import Request, urlopen\n",
    "# from urllib import urlencode, quote_plus\n",
    "\n",
    "# url = 'http://apis.data.go.kr/B552584/MsrstnInfoInqireSvc/getMsrstnList'\n",
    "# queryParams = '?' + urlencode({ quote_plus('ServiceKey') : '서비스키', quote_plus('serviceKey') : '인증키(URL Encode)', quote_plus('returnType') : 'xml', quote_plus('numOfRows') : '100', quote_plus('pageNo') : '1', quote_plus('addr') : '서울', quote_plus('stationName') : '종로구' })\n",
    "\n",
    "# request = Request(url + queryParams)\n",
    "# request.get_method = lambda: 'GET'\n",
    "# response_body = urlopen(request).read()\n",
    "# print response_body"
   ]
  },
  {
   "cell_type": "markdown",
   "id": "c48c88e6-e995-4d90-95e2-b7082d47335d",
   "metadata": {},
   "source": [
    "## 반경내상권조회"
   ]
  },
  {
   "cell_type": "code",
   "execution_count": 14,
   "id": "d3ffd63d-e802-4e03-a781-a613ed155837",
   "metadata": {},
   "outputs": [
    {
     "name": "stdout",
     "output_type": "stream",
     "text": [
      "{\n",
      "\t\"header\" : {\n",
      "\t\t\"description\" : \"소상공인시장진흥공단 주요상권\"\n",
      "\t\t,\"resultCode\" : \"00\"\n",
      "\t\t,\"resultMsg\" : \"NORMAL SERVICE\"\n",
      "\t},\n",
      "\t\"body\" : {\n",
      "\t\t\t\"items\" : [\n",
      "\t\t\t\t{\n",
      "\t\t\t\t\"trarNo\" : 9201\n",
      "\t\t\t\t,\"mainTrarNm\" : \"신당역_1\"\n",
      "\t\t\t\t,\"ctprvnCd\" : \"11\"\n",
      "\t\t\t\t,\"ctprvnNm\" : \"서울특별시\"\n",
      "\t\t\t\t,\"signguCd\" : \"11140\"\n",
      "\t\t\t\t,\"signguNm\" : \"중구\"\n",
      "\t\t\t\t,\"trarArea\" : 56330\n",
      "\t\t\t\t,\"coordNum\" : 18\n",
      "\t\t\t\t,\"coords\" : \"MULTIPOLYGON (((127.018051109725 37.5654456383524, 127.016506062079 37.565274658343, 127.016296623844 37.5650674571961, 127.016211601184 37.564400734911, 127.016058701658 37.5639007042294, 127.015803937973 37.5634006858033, 127.016777264931 37.5631032358535, 127.017156590815 37.5638555130106, 127.017722483154 37.5636977626231, 127.017841527875 37.5646077466135, 127.019703322116 37.5641029174706, 127.019658233928 37.5648642615013, 127.02021279974 37.5646659563833, 127.02047322436 37.5650398256009, 127.020416651429 37.5651209238843, 127.020399786783 37.565566916874, 127.019024542579 37.5655220809981, 127.018051109725 37.5654456383524)))\"\n",
      "\t\t\t\t,\"stdrDt\" : \"2020-12-31\"\n",
      "\t\t\t\t}\n",
      "\t\t\t\t,{\n",
      "\t\t\t\t\"trarNo\" : 9202\n",
      "\t\t\t\t,\"mainTrarNm\" : \"신당역_2\"\n",
      "\t\t\t\t,\"ctprvnCd\" : \"11\"\n",
      "\t\t\t\t,\"ctprvnNm\" : \"서울특별시\"\n",
      "\t\t\t\t,\"signguCd\" : \"11140\"\n",
      "\t\t\t\t,\"signguNm\" : \"중구\"\n",
      "\t\t\t\t,\"trarArea\" : 57400\n",
      "\t\t\t\t,\"coordNum\" : 23\n",
      "\t\t\t\t,\"coords\" : \"MULTIPOLYGON (((127.014265405224 37.567919330738, 127.013671150902 37.5679261515713, 127.012805223366 37.5678451495063, 127.012635389457 37.5675343242492, 127.012669301827 37.5672369942615, 127.01263532501 37.5671063539326, 127.012765452661 37.5668360443834, 127.012861533267 37.5659845992453, 127.013472734492 37.5658786718103, 127.013687779146 37.5657975604379, 127.014123564086 37.5658560785458, 127.014242306478 37.5652433921731, 127.015883559624 37.5654233999273, 127.016042056024 37.5655945685193, 127.016002662273 37.5667298212192, 127.015023552368 37.5666263246236, 127.014955677904 37.5668425701106, 127.014723638648 37.5668425965819, 127.014689730612 37.5671174024239, 127.014570940421 37.5674552870736, 127.014418165046 37.5676400070298, 127.014265350088 37.5675994792641, 127.014265405224 37.567919330738)))\"\n",
      "\t\t\t\t,\"stdrDt\" : \"2020-12-31\"\n",
      "\t\t\t\t}\n",
      "\t\t\t]\n",
      "\t}\n",
      "}\n",
      "\n"
     ]
    }
   ],
   "source": [
    "from urllib.request import Request, urlopen\n",
    "from urllib.parse import urlencode, quote_plus\n",
    "from xml.etree.ElementTree import parse\n",
    "import xml.etree as ET\n",
    "import pandas as pd\n",
    "import xmltodict\n",
    "import json\n",
    "\n",
    "enc = 'KJRTsEOIytUcYU%2BqXGApAmUl36YomGUuj2gWqy1ovmAE6E3Vz2ARuqccx%2BrBGrAPjuxqrqHEJPbqdKeAlp8kNA%3D%3D'\n",
    "dec = 'KJRTsEOIytUcYU+qXGApAmUl36YomGUuj2gWqy1ovmAE6E3Vz2ARuqccx+rBGrAPjuxqrqHEJPbqdKeAlp8kNA=='\n",
    "\n",
    "url = 'http://apis.data.go.kr/B553077/api/open/sdsc2/storeZoneInRadius'\n",
    "\n",
    "\n",
    "params = '?' + urlencode({  quote_plus('serviceKey') : dec, \n",
    "                            quote_plus('radius') : '500',\n",
    "                            quote_plus('cx') : '127.018051109725',\n",
    "                            quote_plus('cy') : '37.5654456383524', \n",
    "                            quote_plus('type') : 'json'})\n",
    "\n",
    "\n",
    "\n",
    "request = Request(url + params)\n",
    "request.get_method = lambda: 'GET'\n",
    "response_body = urlopen(request).read().decode('utf-8') #DECODE 옵션넣어줘야 보임  \n",
    "print(response_body)\n",
    "dd = json.loads(response_body)\n",
    "items = dd['body']['items']\n",
    "\n",
    "df1 = pd.DataFrame(data=items)\n",
    "\n"
   ]
  },
  {
   "cell_type": "code",
   "execution_count": 15,
   "id": "c04d3aa2-1010-4a35-98d0-525a77c68f62",
   "metadata": {},
   "outputs": [
    {
     "data": {
      "text/html": [
       "<div>\n",
       "<style scoped>\n",
       "    .dataframe tbody tr th:only-of-type {\n",
       "        vertical-align: middle;\n",
       "    }\n",
       "\n",
       "    .dataframe tbody tr th {\n",
       "        vertical-align: top;\n",
       "    }\n",
       "\n",
       "    .dataframe thead th {\n",
       "        text-align: right;\n",
       "    }\n",
       "</style>\n",
       "<table border=\"1\" class=\"dataframe\">\n",
       "  <thead>\n",
       "    <tr style=\"text-align: right;\">\n",
       "      <th></th>\n",
       "      <th>trarNo</th>\n",
       "      <th>mainTrarNm</th>\n",
       "      <th>ctprvnCd</th>\n",
       "      <th>ctprvnNm</th>\n",
       "      <th>signguCd</th>\n",
       "      <th>signguNm</th>\n",
       "      <th>trarArea</th>\n",
       "      <th>coordNum</th>\n",
       "      <th>coords</th>\n",
       "      <th>stdrDt</th>\n",
       "    </tr>\n",
       "  </thead>\n",
       "  <tbody>\n",
       "    <tr>\n",
       "      <th>0</th>\n",
       "      <td>9201</td>\n",
       "      <td>신당역_1</td>\n",
       "      <td>11</td>\n",
       "      <td>서울특별시</td>\n",
       "      <td>11140</td>\n",
       "      <td>중구</td>\n",
       "      <td>56330</td>\n",
       "      <td>18</td>\n",
       "      <td>MULTIPOLYGON (((127.018051109725 37.5654456383...</td>\n",
       "      <td>2020-12-31</td>\n",
       "    </tr>\n",
       "    <tr>\n",
       "      <th>1</th>\n",
       "      <td>9202</td>\n",
       "      <td>신당역_2</td>\n",
       "      <td>11</td>\n",
       "      <td>서울특별시</td>\n",
       "      <td>11140</td>\n",
       "      <td>중구</td>\n",
       "      <td>57400</td>\n",
       "      <td>23</td>\n",
       "      <td>MULTIPOLYGON (((127.014265405224 37.5679193307...</td>\n",
       "      <td>2020-12-31</td>\n",
       "    </tr>\n",
       "  </tbody>\n",
       "</table>\n",
       "</div>"
      ],
      "text/plain": [
       "   trarNo mainTrarNm ctprvnCd ctprvnNm signguCd signguNm  trarArea  coordNum  \\\n",
       "0    9201      신당역_1       11    서울특별시    11140       중구     56330        18   \n",
       "1    9202      신당역_2       11    서울특별시    11140       중구     57400        23   \n",
       "\n",
       "                                              coords      stdrDt  \n",
       "0  MULTIPOLYGON (((127.018051109725 37.5654456383...  2020-12-31  \n",
       "1  MULTIPOLYGON (((127.014265405224 37.5679193307...  2020-12-31  "
      ]
     },
     "execution_count": 15,
     "metadata": {},
     "output_type": "execute_result"
    }
   ],
   "source": [
    "df1"
   ]
  },
  {
   "cell_type": "code",
   "execution_count": null,
   "id": "d1f9c884-669f-4a24-b7f1-572bfd997fea",
   "metadata": {},
   "outputs": [],
   "source": []
  }
 ],
 "metadata": {
  "kernelspec": {
   "display_name": "Python 3 (ipykernel)",
   "language": "python",
   "name": "python3"
  },
  "language_info": {
   "codemirror_mode": {
    "name": "ipython",
    "version": 3
   },
   "file_extension": ".py",
   "mimetype": "text/x-python",
   "name": "python",
   "nbconvert_exporter": "python",
   "pygments_lexer": "ipython3",
   "version": "3.9.7"
  }
 },
 "nbformat": 4,
 "nbformat_minor": 5
}
