{
 "cells": [
  {
   "cell_type": "markdown",
   "id": "93216b47-ce33-4db1-b7d2-615147c51c82",
   "metadata": {},
   "source": [
    "# 네이버 웹툰 스크래핑"
   ]
  },
  {
   "cell_type": "code",
   "execution_count": 2,
   "id": "765bffac-bb40-45fa-94c4-54d7c5ea6cad",
   "metadata": {},
   "outputs": [],
   "source": [
    "from selenium import webdriver\n",
    "chrome_options = webdriver.ChromeOptions()\n",
    "chrome_options.add_argument('--headless')#colab option브라우저 없이 하는것\n",
    "chrome_options.add_argument('--no-sandbox')\n",
    "chrome_options.add_argument('--disable-dev-shm-usage')\n",
    "wd = webdriver.Chrome('/opt/homebrew/Caskroom/chromedriver/93.0.4577.63/chromedriver', options=chrome_options)"
   ]
  },
  {
   "cell_type": "code",
   "execution_count": 9,
   "id": "c30fc2ce-591a-4ffd-ac4a-9000c2b8a0f3",
   "metadata": {},
   "outputs": [],
   "source": [
    "wd.get(\"https://comic.naver.com/index\")"
   ]
  },
  {
   "cell_type": "code",
   "execution_count": 10,
   "id": "10842546-8cdd-44de-b2c3-50a5a1cd5ffd",
   "metadata": {},
   "outputs": [
    {
     "name": "stdout",
     "output_type": "stream",
     "text": [
      "히어로메이커\n",
      "결혼생활 그림일기\n",
      "내일\n",
      "AI가 세상을 지배한다면\n",
      "굿 리스너\n",
      "무서운게 딱좋아!\n",
      "나랑노랑~이제는 괜찮은 이야기\n",
      "우당탕탕 휘삐 생존기\n",
      "아싸녀 이야기\n",
      "국밥소녀\n",
      "깜빡깜빡\n",
      "상상동물\n",
      "남쪽의 생존자\n",
      "일월의 선화\n",
      "가뭄에 단비\n",
      "아낌없이 프러포즈[독점]\n",
      "영앤리치가 아니야!\n",
      "이세계는 스마트폰과 함께. [단행본]\n",
      "이세계는 스마트폰과 함께.\n",
      "천년무림 불사혼 [단행본]\n",
      "여황제 무미랑 [단행본]\n"
     ]
    }
   ],
   "source": [
    "for title in wd.find_elements_by_class_name('title'):\n",
    "    print(title.text)"
   ]
  },
  {
   "cell_type": "code",
   "execution_count": 19,
   "id": "2c4c0012-2f82-40b0-ba16-ae191f104b4f",
   "metadata": {},
   "outputs": [
    {
     "name": "stdout",
     "output_type": "stream",
     "text": [
      "[ 에피소드 ]\n",
      "\t 수영만화일기 - 해오\n",
      "\t 오늘의 순정망화 - 손하기\n",
      "\t ㅋㄷㅋㄷ만화 - 기맹기\n",
      "\t 독립일기 - 자까\n",
      "\t 닥터앤닥터 육아일기 - 닥터베르\n",
      "\t 약한영웅 - 서패스 / 김진석\n",
      "[ 옴니버스 ]\n",
      "\t 히어로메이커 - 빤쓰\n",
      "\t 결혼생활 그림일기 - 은꼼지\n",
      "\t 내일 - 라마\n",
      "\t AI가 세상을 지배한다면 - POGO / HOOPA\n",
      "\t 굿 리스너 - 쥬드프라이데이\n",
      "\t 무서운게 딱좋아! - 이동규\n",
      "[ 스토리 ]\n",
      "\t 꿈의 기업 - 문지현\n",
      "\t 트리거 - 고경빈\n",
      "\t 요리GO - HO9\n",
      "\t 와이키키 뱀파이어 - 요니요니\n",
      "\t 소녀의 세계 - 모랑지\n",
      "\t 뷰티풀 군바리 - 설이 / 윤성원\n",
      "[ 일상 ]\n",
      "\t 수영만화일기 - 해오\n",
      "\t ㅋㄷㅋㄷ만화 - 기맹기\n",
      "\t 결혼생활 그림일기 - 은꼼지\n",
      "\t 독립일기 - 자까\n",
      "\t 닥터앤닥터 육아일기 - 닥터베르\n",
      "\t 웰캄투실버라이프 - 솔녀\n",
      "[ 개그 ]\n",
      "\t 오늘의 순정망화 - 손하기\n",
      "\t 영앤리치가 아니야! - 최삡뺩\n",
      "\t 경자 전성시대 - 김호드\n",
      "\t 사실 마법이었던 거임 - 박성현\n",
      "\t 모죠의 일지 - 모죠\n",
      "\t 최면학교 - 박은혁\n",
      "[ 판타지 ]\n",
      "\t 히어로메이커 - 빤쓰\n",
      "\t 트리거 - 고경빈\n",
      "\t 앵무살수 - 김성진\n",
      "\t 라서드 - 감람\n",
      "\t 백호랑 - 박혬\n",
      "\t 만렙돌파 - 성불예정,홍실 / 미노\n",
      "[ 액션 ]\n",
      "\t 보살님이 캐리해! - 성코 / 콩자\n",
      "\t 참교육 - 채용택 / 한가람\n",
      "\t 장씨세가 호위무사 - 조형근 / 김인호\n",
      "\t 살아간다 - 이행복\n",
      "\t 삼매경 - 이원식 / 꿀찬\n",
      "\t 말박왕 - 용사\n",
      "[ 드라마 ]\n",
      "\t 요리GO - HO9\n",
      "\t 와이키키 뱀파이어 - 요니요니\n",
      "\t 백수세끼 - 치즈\n",
      "\t 소녀의 세계 - 모랑지\n",
      "\t 뷰티풀 군바리 - 설이 / 윤성원\n",
      "\t 착한건 돈이된다 - 유성연\n",
      "[ 순정 ]\n",
      "\t 유일무이 로맨스 - 두부\n",
      "\t 선배, 그 립스틱 바르지 마요 - 까페라떼 / JINHA\n",
      "\t 사랑의 헌옷수거함 - 고잉\n",
      "\t 야생천사 보호구역 - 루시드\n",
      "\t 모락모락 왕세자님 - 원해\n",
      "\t 헬로맨스 - 이공주 / 하얀독수리\n",
      "[ 감성 ]\n",
      "\t 드로잉 레시피 - 꼬모소이\n",
      "\t 다시 또 봄 - 이힝\n",
      "\t 연우의 순정 - 이솔\n",
      "\t 안녕 나의 모모로 - 켄타\n",
      "\t 미스테리오소 - 송일곤 / 이제\n",
      "\t 우리는 요정! - 억수씨\n",
      "[ 스릴러 ]\n",
      "\t 꿈의 기업 - 문지현\n",
      "\t 꼬리잡기 - 바쉬\n",
      "\t 파이게임 - 배진수\n",
      "\t 바퀴 - 나우원 / 오른손\n",
      "\t 약초마을 연쇄살초사건 - 박지독\n",
      "\t 똑 닮은 딸 - 이담\n",
      "[ 시대극 ]\n",
      "\t 사막에 핀 달 - 선지\n",
      "\t 몽홀 - 장태산\n",
      "\t 화산귀환 - 비가 / LICO\n",
      "\t 칼부림 - 고일권\n",
      "\t 삼국지톡 - 무적핑크 / 이리\n",
      "\t 봉이 김선달 - 양우석,정하용 / 제피가루\n",
      "[ 스포츠 ]\n",
      "\t 가비지타임 - 2사장\n",
      "\t 군주 - 박산하\n",
      "\t 탑코너 - 윤성 / 라군\n",
      "\t 스트릿 워크아웃 - 장부규\n",
      "\t 태권보이 - 김우준\n",
      "\t 인피니티 - 2오\n"
     ]
    }
   ],
   "source": [
    "#naver webtoon 장르 리스트 가져오기\n",
    "import time \n",
    "genre_ul = wd.find_element_by_class_name('tab_gr')\n",
    "genre_list = genre_ul.find_elements_by_tag_name('a')\n",
    "\n",
    "for genre in genre_list:\n",
    "    genre.click()\n",
    "    time.sleep(1)\n",
    "    print(\"[\", genre.text, \"]\")\n",
    "    \n",
    "    genre_rec_list = wd.find_elements_by_class_name('genreRecomInfo2')\n",
    "    for genre_rec in genre_rec_list:\n",
    "        title_class = genre_rec.find_element_by_class_name('title')\n",
    "        title = title_class.find_element_by_tag_name('a').text\n",
    "        user =genre_rec.find_element_by_class_name('user').text\n",
    "        print(\"\\t\", title, \"-\", user)"
   ]
  }
 ],
 "metadata": {
  "kernelspec": {
   "display_name": "Python 3 (ipykernel)",
   "language": "python",
   "name": "python3"
  },
  "language_info": {
   "codemirror_mode": {
    "name": "ipython",
    "version": 3
   },
   "file_extension": ".py",
   "mimetype": "text/x-python",
   "name": "python",
   "nbconvert_exporter": "python",
   "pygments_lexer": "ipython3",
   "version": "3.9.6"
  }
 },
 "nbformat": 4,
 "nbformat_minor": 5
}
